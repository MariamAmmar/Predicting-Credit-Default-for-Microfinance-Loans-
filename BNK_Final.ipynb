{
 "cells": [
  {
   "cell_type": "markdown",
   "metadata": {},
   "source": [
    "# Predicting Credit Default Microfinance Loans in the Phillipines with BNK Bank"
   ]
  },
  {
   "cell_type": "markdown",
   "metadata": {},
   "source": [
    "This project aims to predict credit default for a rural microfinance insitution in the Phillipines. The instution, Bangko Ng Kabuhayan, also know as BNK has three branches in areas outside of Manila. At the time this project was implemented, the bank had a significantly high defualt rate of nearly 50%. The aim of this project is the create an application which allows loan officers better predict credit default so that the bank can continue to stay in operation. \n",
    "\n",
    "We begin my importing and cleaning the neccesary data. "
   ]
  },
  {
   "cell_type": "code",
   "execution_count": 1,
   "metadata": {},
   "outputs": [],
   "source": [
    "import pandas as pd\n",
    "import numpy as np \n",
    "import googlemaps\n",
    "\n",
    "\n",
    "file = \"/Users/jessicaparker/Desktop/Data/BNK Project/Jupyter Notebooks/Linear_Cleaned_Final_1.csv\"\n",
    "file_2 = \"/Users/jessicaparker/Desktop/Data/BNK Project/Data/Leo_Logit_Files/logit_data_original.csv\"\n",
    "file_3 = \"/Users/jessicaparker/Desktop/Data/BNK Project/Data/Leo_Logit_Files/logit_day4.csv\"\n",
    "file_4 = \"/Users/jessicaparker/Desktop/Data/Usable_Data/Linear_Cleaned.csv\"\n",
    "file_5 = \"/Users/jessicaparker/Desktop/Data/BNK Project/Data/New_Data/Linear_Industry.csv\"\n",
    "file_6 = \"/Users/jessicaparker/Desktop/Data/Usable_Data/Linear_Excel/Linear_Adresses_1.csv\"\n",
    "# file_7 = \n",
    "\n",
    "\n",
    "mine_linear_o = pd.read_csv(file)\n",
    "leo_logit_original_o = pd.read_csv(file_2)\n",
    "leo_logit_clean_o = pd.read_csv(file_3)\n",
    "linear_original_o = pd.read_csv(file_4)\n",
    "linear_industry_o = pd.read_csv(file_5)\n",
    "linear_addresses_o  = pd.read_csv(file_6)\n",
    "\n",
    "mine_linear = mine_linear_o.copy()\n",
    "leo_logit_original = leo_logit_original_o.copy()\n",
    "leo_logit_clean = leo_logit_clean_o.copy()\n",
    "linear_original = linear_original_o.copy()\n",
    "linear_industry = linear_industry_o.copy()\n",
    "linear_addresses = linear_addresses_o.copy()\n"
   ]
  },
  {
   "cell_type": "markdown",
   "metadata": {},
   "source": [
    "## Dealing with INDUSTRY and Recombining/Encoding Columns"
   ]
  },
  {
   "cell_type": "markdown",
   "metadata": {},
   "source": [
    "For our data, we had two main datasets with different features. \n",
    "\n",
    "Each of the datasets included various features. The features were encoded and combined accordingly.  \n",
    "The industry column, belonging to the first dataset is cleaned below.  \n"
   ]
  },
  {
   "cell_type": "code",
   "execution_count": 2,
   "metadata": {},
   "outputs": [
    {
     "data": {
      "text/plain": [
       "RETAIL              518\n",
       "SERVICES            209\n",
       "OTHER/UNKNOWN        91\n",
       "WHOLESALE/RETAIL     90\n",
       "MANUFACTURING        57\n",
       "Name: INDUSTRY, dtype: int64"
      ]
     },
     "execution_count": 2,
     "metadata": {},
     "output_type": "execute_result"
    }
   ],
   "source": [
    "linear_industry[\"INDUSTRY\"] = linear_industry[\"INDUSTRY\"].str.strip()\n",
    "linear_industry[\"INDUSTRY\"] = linear_industry[\"INDUSTRY\"].apply(lambda x: \"OTHER/UNKNOWN\" if x!=\"RETAIL\" and x!= \"SERVICES\" and x!= \"MANUFACTURING\" and x!= \"WHOLESALE/RETAIL\" else x)  \n",
    "linear_industry[\"INDUSTRY\"].value_counts()"
   ]
  },
  {
   "cell_type": "markdown",
   "metadata": {},
   "source": [
    "As we can see here, the retail and services industry are the most popular. \n",
    "\n",
    "Below, we encoded the marital status column so that we can easily use it for one model later. A value of 0 signifies unmarried and "
   ]
  },
  {
   "cell_type": "code",
   "execution_count": 3,
   "metadata": {
    "scrolled": true
   },
   "outputs": [],
   "source": [
    "leo_logit_clean.rename(columns = {'HOME_OWNED':'HOME OWNERSHIP'},inplace = True)\n",
    "leo_logit_clean.drop('HOME_NOT_OWNED',inplace = True,axis = 1)"
   ]
  },
  {
   "cell_type": "code",
   "execution_count": 4,
   "metadata": {},
   "outputs": [],
   "source": [
    "leo_logit_clean[\"CIVIL STATUS_MARRIED\"] = leo_logit_clean[\"CIVIL STATUS_MARRIED\"].replace(1,2)\n",
    "leo_logit_clean[\"CIVIL STATUS_NON-MARRIED\"] = leo_logit_clean[\"CIVIL STATUS_MARRIED\"].replace(1,0)\n",
    "leo_logit_clean[\"CIVIL STATUS\"] = leo_logit_clean[\"CIVIL STATUS_MARRIED\"] + leo_logit_clean[\"CIVIL STATUS_NON-MARRIED\"]\n",
    "leo_logit_clean[\"MARITAL STATUS\"] = leo_logit_clean[\"CIVIL STATUS\"].replace(4,1)\n",
    "\n",
    "leo_logit_clean[\"MARITAL STATUS\"] = leo_logit_clean[\"CIVIL STATUS\"].replace(4,1)\n"
   ]
  },
  {
   "cell_type": "markdown",
   "metadata": {},
   "source": [
    "## Combining Datasets "
   ]
  },
  {
   "cell_type": "markdown",
   "metadata": {},
   "source": [
    "Below the datasets are combined, but first we need to make sure that the column names match perfectly and that they have the same features. "
   ]
  },
  {
   "cell_type": "code",
   "execution_count": 5,
   "metadata": {},
   "outputs": [],
   "source": [
    "leo_logit_original[\"BRANCH\"] = leo_logit_original[\"BRANCH\"]\n"
   ]
  },
  {
   "cell_type": "code",
   "execution_count": 6,
   "metadata": {},
   "outputs": [],
   "source": [
    "leo_logit_clean = leo_logit_clean.rename(columns=lambda x: x.strip())\n",
    "mine_linear = mine_linear.rename(columns=lambda x: x.strip())\n",
    "\n",
    "\n",
    "mine_linear[\"INDUSTRY\"] = linear_industry[\"INDUSTRY\"]\n",
    "mine_linear.columns = map(str.upper, mine_linear.columns)\n",
    "leo_logit_clean.columns = map(str.upper, leo_logit_clean.columns)"
   ]
  },
  {
   "cell_type": "code",
   "execution_count": 7,
   "metadata": {},
   "outputs": [],
   "source": [
    "logit_filtered = leo_logit_clean[[\"TARGET\",'LOAN', 'LOAN OUTSTANDING','CYCLE','AGE','GENDER','NUMBER OF DEPENDENTS',\n",
    "                                 'HOME YEARS', 'YEARS','CF CALC','COLL CALC','CF TO LOAN','MOP_PDC',\n",
    "                                 'MOP_WALK-IN','COLL 2 LOAN',\"MARITAL STATUS\",\"HOME OWNERSHIP\",\"INDUSTRY\"]]\n"
   ]
  },
  {
   "cell_type": "code",
   "execution_count": 8,
   "metadata": {},
   "outputs": [],
   "source": [
    "linear_filtered = mine_linear[['TARGET','AMOUNT GRANTED','BALANCE','LOAN CYCLE','AGE','GENDER','DEPENDENTS',\n",
    "                              'HOME LENGTH OF STAY','BUSINESS LENGTH OF STAY','CASHFLOW ENTITLEMENT','COLLATERAL AMOUNT',\n",
    "                              'CF TO LOAN','MODE OF PAYMENT_PDC','MODE OF PAYMENT_WALK-IN','MARITAL STATUS','HOME OWNERSHIP',\"INDUSTRY\"]]\n",
    "\n",
    "\n",
    "logit_filtered = logit_filtered.rename(columns = {\"LOAN\":\"AMOUNT GRANTED\",'NUMBER OF DEPENDENTS':'DEPENDANTS','HOME LENGTH OF STAY':'HOME YEARS',\n",
    "                                'YEARS':\"BUS YEARS\",'CF CALC':\"CASHFLOW\",'COLL CALC':'COLLATERAL',\n",
    "                                 \"COLL 2 LOAN\":\"COLL TO LOAN\",\"MARTIAL STATUS\":\"MARITAL\"})\n",
    "                                                  \n",
    "linear_filtered = linear_filtered.rename(columns = {\"LOAN CYCLE\":\"CYCLE\",'YEARS':'BUS YEARS','CASHFLOW ENTITLEMENT':'CASHFLOW',\n",
    "                                 'COLLATERAL AMOUNT':'COLLATERAL','MODE OF PAYMENT_PDC':'MOP_PDC',\n",
    "                                 'MODE OF PAYMENT_WALK-IN':'MOP_WALK-IN',\"BALANCE\":\"LOAN OUTSTANDING\",\"DEPENDENTS\":\t\"DEPENDANTS\",\n",
    "                                'HOME LENGTH OF STAY':'HOME YEARS',\"BUSINESS LENGTH OF STAY\": 'BUS YEARS'})\n"
   ]
  },
  {
   "cell_type": "code",
   "execution_count": 9,
   "metadata": {},
   "outputs": [
    {
     "data": {
      "text/plain": [
       "RETAIL              513\n",
       "SERVICES            209\n",
       "OTHERS               96\n",
       "WHOLESALE/RETAIL     90\n",
       "MANUFACTURING        57\n",
       "Name: INDUSTRY, dtype: int64"
      ]
     },
     "execution_count": 9,
     "metadata": {},
     "output_type": "execute_result"
    }
   ],
   "source": [
    "logit_filtered[\"INDUSTRY\"].value_counts()"
   ]
  },
  {
   "cell_type": "markdown",
   "metadata": {},
   "source": [
    "### Calculating COLL TO LOAN for Linear Model"
   ]
  },
  {
   "cell_type": "markdown",
   "metadata": {},
   "source": [
    "Since out first data set does not have the coll/loan feature, we calculated it below. "
   ]
  },
  {
   "cell_type": "code",
   "execution_count": 10,
   "metadata": {},
   "outputs": [],
   "source": [
    "linear_filtered['COLL TO LOAN'] = linear_filtered[\"CASHFLOW\"]/linear_filtered['AMOUNT GRANTED']"
   ]
  },
  {
   "cell_type": "markdown",
   "metadata": {},
   "source": [
    "### Merging the Datasets"
   ]
  },
  {
   "cell_type": "code",
   "execution_count": 11,
   "metadata": {},
   "outputs": [],
   "source": [
    "merged = pd.concat([linear_filtered, logit_filtered], axis=0)"
   ]
  },
  {
   "cell_type": "markdown",
   "metadata": {},
   "source": [
    "## Making Dummies and Shuffling the Dataset "
   ]
  },
  {
   "cell_type": "markdown",
   "metadata": {},
   "source": [
    "Next we made dummies for the \"INDUSTRY\" column. This was eventually excluded from our analysis since we found this feature to be insignificant. \n",
    "Afterwards, the combined dataset is shuffled so that rows appear in random order and the data is mixed between the two initial datasets. "
   ]
  },
  {
   "cell_type": "code",
   "execution_count": 12,
   "metadata": {
    "scrolled": true
   },
   "outputs": [],
   "source": [
    "merged_dum  = pd.get_dummies(data = merged, columns = [\"INDUSTRY\"])\n",
    "merged_shuff = merged_dum.sample(frac=1).reset_index(drop=True)"
   ]
  },
  {
   "cell_type": "markdown",
   "metadata": {},
   "source": [
    "# Elementary Modeling "
   ]
  },
  {
   "cell_type": "markdown",
   "metadata": {},
   "source": [
    "Here we used a simply Random Forest Classifier. We did not include any columns relating to the bank branch or client's industry since we found these features to be insignificant. Below we check and make sure that we do not have any missing values. "
   ]
  },
  {
   "cell_type": "code",
   "execution_count": 13,
   "metadata": {},
   "outputs": [
    {
     "name": "stdout",
     "output_type": "stream",
     "text": [
      "<class 'pandas.core.frame.DataFrame'>\n",
      "RangeIndex: 2024 entries, 0 to 2023\n",
      "Data columns (total 11 columns):\n",
      " #   Column          Non-Null Count  Dtype  \n",
      "---  ------          --------------  -----  \n",
      " 0   CYCLE           2024 non-null   float64\n",
      " 1   HOME YEARS      2024 non-null   float64\n",
      " 2   AGE             2024 non-null   float64\n",
      " 3   BUS YEARS       2024 non-null   float64\n",
      " 4   CF TO LOAN      2024 non-null   float64\n",
      " 5   COLL TO LOAN    2024 non-null   float64\n",
      " 6   AMOUNT GRANTED  2024 non-null   float64\n",
      " 7   MARITAL STATUS  2024 non-null   int64  \n",
      " 8   HOME OWNERSHIP  2024 non-null   int64  \n",
      " 9   MOP_WALK-IN     2024 non-null   int64  \n",
      " 10  GENDER          2024 non-null   int64  \n",
      "dtypes: float64(7), int64(4)\n",
      "memory usage: 174.1 KB\n"
     ]
    }
   ],
   "source": [
    "merged_shuff[['CYCLE', 'HOME YEARS', 'AGE','BUS YEARS', \n",
    "          'CF TO LOAN', 'COLL TO LOAN',\"AMOUNT GRANTED\", \"MARITAL STATUS\", \"HOME OWNERSHIP\",\"MOP_WALK-IN\",\"GENDER\"]].info()"
   ]
  },
  {
   "cell_type": "code",
   "execution_count": 14,
   "metadata": {
    "scrolled": true
   },
   "outputs": [
    {
     "data": {
      "text/plain": [
       "0.7114624505928854"
      ]
     },
     "execution_count": 14,
     "metadata": {},
     "output_type": "execute_result"
    }
   ],
   "source": [
    "from sklearn.model_selection import train_test_split\n",
    "from sklearn.ensemble import RandomForestClassifier\n",
    "\n",
    "\n",
    "X = merged_shuff[['CYCLE', 'HOME YEARS', 'AGE','BUS YEARS', \n",
    "          'CF TO LOAN', 'COLL TO LOAN',\"AMOUNT GRANTED\", \"MARITAL STATUS\", \"HOME OWNERSHIP\",\"MOP_WALK-IN\",\"GENDER\"]]\n",
    "\n",
    "y = merged_shuff[\"TARGET\"]\n",
    "\n",
    "\n",
    "X_train, X_test, y_train, y_test = train_test_split(X,y, test_size = 0.25, random_state = 0)\n",
    "\n",
    "forest = RandomForestClassifier(n_estimators = 10)\n",
    "\n",
    "forest.fit(X_train, y_train)\n",
    "forest.score(X_test, y_test)\n",
    "\n"
   ]
  },
  {
   "cell_type": "markdown",
   "metadata": {},
   "source": [
    "Below we can see the feature importances of the ones that we included in the model. Each features is graphed as its percentage of importance when included with the other features. As you can see, marital status has the lowest importance while the amount granted to the client has the highest. "
   ]
  },
  {
   "cell_type": "code",
   "execution_count": 15,
   "metadata": {
    "scrolled": true
   },
   "outputs": [
    {
     "data": {
      "text/html": [
       "<div>\n",
       "<style scoped>\n",
       "    .dataframe tbody tr th:only-of-type {\n",
       "        vertical-align: middle;\n",
       "    }\n",
       "\n",
       "    .dataframe tbody tr th {\n",
       "        vertical-align: top;\n",
       "    }\n",
       "\n",
       "    .dataframe thead th {\n",
       "        text-align: right;\n",
       "    }\n",
       "</style>\n",
       "<table border=\"1\" class=\"dataframe\">\n",
       "  <thead>\n",
       "    <tr style=\"text-align: right;\">\n",
       "      <th></th>\n",
       "      <th>feature</th>\n",
       "      <th>importance</th>\n",
       "    </tr>\n",
       "  </thead>\n",
       "  <tbody>\n",
       "    <tr>\n",
       "      <th>6</th>\n",
       "      <td>AMOUNT GRANTED</td>\n",
       "      <td>0.216010</td>\n",
       "    </tr>\n",
       "    <tr>\n",
       "      <th>5</th>\n",
       "      <td>COLL TO LOAN</td>\n",
       "      <td>0.146713</td>\n",
       "    </tr>\n",
       "    <tr>\n",
       "      <th>4</th>\n",
       "      <td>CF TO LOAN</td>\n",
       "      <td>0.138113</td>\n",
       "    </tr>\n",
       "    <tr>\n",
       "      <th>1</th>\n",
       "      <td>HOME YEARS</td>\n",
       "      <td>0.114460</td>\n",
       "    </tr>\n",
       "    <tr>\n",
       "      <th>2</th>\n",
       "      <td>AGE</td>\n",
       "      <td>0.099880</td>\n",
       "    </tr>\n",
       "    <tr>\n",
       "      <th>3</th>\n",
       "      <td>BUS YEARS</td>\n",
       "      <td>0.089464</td>\n",
       "    </tr>\n",
       "    <tr>\n",
       "      <th>0</th>\n",
       "      <td>CYCLE</td>\n",
       "      <td>0.089348</td>\n",
       "    </tr>\n",
       "    <tr>\n",
       "      <th>9</th>\n",
       "      <td>MOP_WALK-IN</td>\n",
       "      <td>0.036929</td>\n",
       "    </tr>\n",
       "    <tr>\n",
       "      <th>8</th>\n",
       "      <td>HOME OWNERSHIP</td>\n",
       "      <td>0.027556</td>\n",
       "    </tr>\n",
       "    <tr>\n",
       "      <th>10</th>\n",
       "      <td>GENDER</td>\n",
       "      <td>0.022983</td>\n",
       "    </tr>\n",
       "    <tr>\n",
       "      <th>7</th>\n",
       "      <td>MARITAL STATUS</td>\n",
       "      <td>0.018545</td>\n",
       "    </tr>\n",
       "  </tbody>\n",
       "</table>\n",
       "</div>"
      ],
      "text/plain": [
       "           feature  importance\n",
       "6   AMOUNT GRANTED    0.216010\n",
       "5     COLL TO LOAN    0.146713\n",
       "4       CF TO LOAN    0.138113\n",
       "1       HOME YEARS    0.114460\n",
       "2              AGE    0.099880\n",
       "3        BUS YEARS    0.089464\n",
       "0            CYCLE    0.089348\n",
       "9      MOP_WALK-IN    0.036929\n",
       "8   HOME OWNERSHIP    0.027556\n",
       "10          GENDER    0.022983\n",
       "7   MARITAL STATUS    0.018545"
      ]
     },
     "execution_count": 15,
     "metadata": {},
     "output_type": "execute_result"
    }
   ],
   "source": [
    "fi = pd.DataFrame({'feature': list(X_train.columns),\n",
    "                   'importance': forest.feature_importances_}).\\\n",
    "                    sort_values('importance', ascending = False)\n",
    "\n",
    "# Display\n",
    "fi"
   ]
  },
  {
   "cell_type": "markdown",
   "metadata": {},
   "source": [
    "## Simple Log Model "
   ]
  },
  {
   "cell_type": "code",
   "execution_count": 34,
   "metadata": {},
   "outputs": [
    {
     "name": "stdout",
     "output_type": "stream",
     "text": [
      "              precision    recall  f1-score   support\n",
      "\n",
      "         0.0       0.67      0.80      0.73       271\n",
      "         1.0       0.71      0.55      0.62       235\n",
      "\n",
      "    accuracy                           0.69       506\n",
      "   macro avg       0.69      0.68      0.68       506\n",
      "weighted avg       0.69      0.69      0.68       506\n",
      "\n"
     ]
    }
   ],
   "source": [
    "from sklearn.linear_model import LogisticRegression\n",
    "from sklearn.metrics import classification_report\n",
    "\n",
    "log_model = LogisticRegression()\n",
    "\n",
    "log_model.fit(X_train, y_train)\n",
    "log_score = log_model.score(X_test, y_test)\n",
    "y_pred = log_model.predict(X_test)\n",
    "\n",
    "print(classification_report(y_test,y_pred))"
   ]
  },
  {
   "cell_type": "markdown",
   "metadata": {},
   "source": [
    "In our case of predicting if a loan would default - It would be better to have a high Recall as the banks don't want to lose money and would be a good idea to alarm the bank even if there is a slight doubt about defaulter.\n",
    "Low precision, in this case, might be okay. However, we experiemented with other models and optimized them to see if we could achieve higher accuracy."
   ]
  },
  {
   "cell_type": "markdown",
   "metadata": {},
   "source": [
    "# XG Boost Model"
   ]
  },
  {
   "cell_type": "code",
   "execution_count": 17,
   "metadata": {},
   "outputs": [
    {
     "data": {
      "text/plain": [
       "0.7430830039525692"
      ]
     },
     "execution_count": 17,
     "metadata": {},
     "output_type": "execute_result"
    }
   ],
   "source": [
    "import warnings\n",
    "from scipy.stats import randint\n",
    "from numpy import loadtxt\n",
    "from xgboost import XGBClassifier\n",
    "from sklearn.model_selection import train_test_split\n",
    "from sklearn.metrics import accuracy_score\n",
    "from sklearn.model_selection import RandomizedSearchCV\n",
    "\n",
    "warnings.filterwarnings(\"ignore\")\n",
    "\n",
    "xgb = XGBClassifier()\n",
    "search_space = {'max_depth':randint(2,25), \n",
    "                'n_jobs':randint(2,100),\"n_estimators\":randint(2,150)}\n",
    "\n",
    "search = RandomizedSearchCV(xgb, param_distributions = search_space, n_jobs=-1, \n",
    "                            scoring = 'f1', cv = 10, n_iter = 10)\n",
    "\n",
    "# Fit search\n",
    "search.fit(X_train,y_train)\n",
    "\n",
    "#Best parameters\n",
    "search.best_params_\n",
    "xg_model = search.best_estimator_\n",
    "\n",
    "xg_model.fit(X_train, y_train)\n",
    "boost_score = xg_model.score(X_test,y_test)\n",
    "boost_score"
   ]
  },
  {
   "cell_type": "markdown",
   "metadata": {},
   "source": [
    "As we can see here, the accuracy doesn't change much from our previous log model. Below, we plot the learning curves. This is done to ensure that the model is not overfitting and we can genelize well with our test data. Since the mean squared error for our test data is increasing and remaining static for our training data, then we can safely assume that we are not overfitting. "
   ]
  },
  {
   "cell_type": "code",
   "execution_count": 18,
   "metadata": {},
   "outputs": [
    {
     "data": {
      "text/plain": [
       "<matplotlib.legend.Legend at 0x12f862790>"
      ]
     },
     "execution_count": 18,
     "metadata": {},
     "output_type": "execute_result"
    },
    {
     "data": {
      "image/png": "[encoded data removed]",
      "text/plain": [
       "<Figure size 432x288 with 1 Axes>"
      ]
     },
     "metadata": {
      "needs_background": "light"
     },
     "output_type": "display_data"
    }
   ],
   "source": [
    "import matplotlib.pyplot as plt\n",
    "from sklearn.model_selection import learning_curve\n",
    "\n",
    "train_sizes, train_scores, test_scores = learning_curve(estimator = xg_model,\n",
    "                                                              X = X, \n",
    "                                                              y = y, \n",
    "                                                              train_sizes = [1,50,150,350,600,700,100,1500,1600], cv = 5,\n",
    "                                                              scoring = 'neg_mean_squared_error')\n",
    "\n",
    "# Take the mean of cross-validated train scores and validation scores\n",
    "train_scores_mean = np.mean(train_scores, axis=1)\n",
    "test_scores_mean = np.mean(test_scores, axis=1)\n",
    "\n",
    "# Plot the learning curves!\n",
    "plt.plot(train_sizes, train_scores_mean, label = 'Training score')\n",
    "plt.plot(train_sizes, test_scores_mean, label = 'Test score')\n",
    "plt.ylabel('mse', fontsize = 14)\n",
    "plt.xlabel('Training set size', fontsize = 14)\n",
    "plt.title('Learning curves', fontsize = 18, y = 1.03)\n",
    "plt.legend()"
   ]
  },
  {
   "cell_type": "markdown",
   "metadata": {},
   "source": [
    "## Random Forest Randomized Search CV "
   ]
  },
  {
   "cell_type": "markdown",
   "metadata": {},
   "source": [
    "We did some research and discovered that the Random Forest Classifier is frequently used to predict credit default, so we decided to give it a go. We also used RandomizedSearchCV so that we could get the model with the most accuracy parameters. "
   ]
  },
  {
   "cell_type": "code",
   "execution_count": 19,
   "metadata": {
    "scrolled": true
   },
   "outputs": [
    {
     "data": {
      "text/plain": [
       "0.7450592885375494"
      ]
     },
     "execution_count": 19,
     "metadata": {},
     "output_type": "execute_result"
    }
   ],
   "source": [
    "from sklearn.ensemble import RandomForestClassifier\n",
    "from sklearn.feature_selection import SelectFromModel\n",
    "from sklearn.model_selection import RandomizedSearchCV\n",
    "from sklearn.metrics import classification_report\n",
    "\n",
    "\n",
    "forest = RandomForestClassifier()\n",
    "search_space = {'min_samples_split' : randint(2,25), 'max_depth':randint(2,25), \n",
    "                'n_jobs':randint(2,100),\"n_estimators\":randint(2,150)}\n",
    "\n",
    "search = RandomizedSearchCV(forest, param_distributions = search_space, n_jobs=-1, \n",
    "                            scoring = 'f1', cv = 10, n_iter = 10)\n",
    "\n",
    "# Fit search\n",
    "search.fit(X_train,y_train)\n",
    "\n",
    "#Best parameters\n",
    "search.best_params_\n",
    "model = search.best_estimator_\n",
    "\n",
    "model.fit(X_train, y_train)\n",
    "f_score = model.score(X_test,y_test)\n",
    "f_score"
   ]
  },
  {
   "cell_type": "code",
   "execution_count": 20,
   "metadata": {},
   "outputs": [
    {
     "data": {
      "text/plain": [
       "<AxesSubplot:>"
      ]
     },
     "execution_count": 20,
     "metadata": {},
     "output_type": "execute_result"
    },
    {
     "data": {
      "image/png": "[encoded data removed]",
      "text/plain": [
       "<Figure size 432x288 with 1 Axes>"
      ]
     },
     "metadata": {
      "needs_background": "light"
     },
     "output_type": "display_data"
    }
   ],
   "source": [
    "import matplotlib.pyplot as plt \n",
    "\n",
    "fi = pd.DataFrame({'feature': list(X_train.columns),\n",
    "                   'importance': model.feature_importances_}).\\\n",
    "                    sort_values('importance', ascending = False)\n",
    "\n",
    "# Display\n",
    "fi\n",
    "# y_pred = model.predict(X_test)\n",
    "\n",
    "(pd.Series(model.feature_importances_, index=X_train.columns).sort_values().plot(kind='barh'))"
   ]
  },
  {
   "cell_type": "code",
   "execution_count": 21,
   "metadata": {},
   "outputs": [
    {
     "data": {
      "text/html": [
       "<div>\n",
       "<style scoped>\n",
       "    .dataframe tbody tr th:only-of-type {\n",
       "        vertical-align: middle;\n",
       "    }\n",
       "\n",
       "    .dataframe tbody tr th {\n",
       "        vertical-align: top;\n",
       "    }\n",
       "\n",
       "    .dataframe thead th {\n",
       "        text-align: right;\n",
       "    }\n",
       "</style>\n",
       "<table border=\"1\" class=\"dataframe\">\n",
       "  <thead>\n",
       "    <tr style=\"text-align: right;\">\n",
       "      <th></th>\n",
       "      <th>feature</th>\n",
       "      <th>importance</th>\n",
       "    </tr>\n",
       "  </thead>\n",
       "  <tbody>\n",
       "    <tr>\n",
       "      <th>6</th>\n",
       "      <td>AMOUNT GRANTED</td>\n",
       "      <td>0.290275</td>\n",
       "    </tr>\n",
       "    <tr>\n",
       "      <th>5</th>\n",
       "      <td>COLL TO LOAN</td>\n",
       "      <td>0.128877</td>\n",
       "    </tr>\n",
       "    <tr>\n",
       "      <th>4</th>\n",
       "      <td>CF TO LOAN</td>\n",
       "      <td>0.117571</td>\n",
       "    </tr>\n",
       "    <tr>\n",
       "      <th>3</th>\n",
       "      <td>BUS YEARS</td>\n",
       "      <td>0.101073</td>\n",
       "    </tr>\n",
       "    <tr>\n",
       "      <th>0</th>\n",
       "      <td>CYCLE</td>\n",
       "      <td>0.100876</td>\n",
       "    </tr>\n",
       "    <tr>\n",
       "      <th>2</th>\n",
       "      <td>AGE</td>\n",
       "      <td>0.082520</td>\n",
       "    </tr>\n",
       "    <tr>\n",
       "      <th>1</th>\n",
       "      <td>HOME YEARS</td>\n",
       "      <td>0.075891</td>\n",
       "    </tr>\n",
       "    <tr>\n",
       "      <th>8</th>\n",
       "      <td>HOME OWNERSHIP</td>\n",
       "      <td>0.037851</td>\n",
       "    </tr>\n",
       "    <tr>\n",
       "      <th>9</th>\n",
       "      <td>MOP_WALK-IN</td>\n",
       "      <td>0.031988</td>\n",
       "    </tr>\n",
       "    <tr>\n",
       "      <th>10</th>\n",
       "      <td>GENDER</td>\n",
       "      <td>0.022939</td>\n",
       "    </tr>\n",
       "    <tr>\n",
       "      <th>7</th>\n",
       "      <td>MARITAL STATUS</td>\n",
       "      <td>0.010139</td>\n",
       "    </tr>\n",
       "  </tbody>\n",
       "</table>\n",
       "</div>"
      ],
      "text/plain": [
       "           feature  importance\n",
       "6   AMOUNT GRANTED    0.290275\n",
       "5     COLL TO LOAN    0.128877\n",
       "4       CF TO LOAN    0.117571\n",
       "3        BUS YEARS    0.101073\n",
       "0            CYCLE    0.100876\n",
       "2              AGE    0.082520\n",
       "1       HOME YEARS    0.075891\n",
       "8   HOME OWNERSHIP    0.037851\n",
       "9      MOP_WALK-IN    0.031988\n",
       "10          GENDER    0.022939\n",
       "7   MARITAL STATUS    0.010139"
      ]
     },
     "execution_count": 21,
     "metadata": {},
     "output_type": "execute_result"
    }
   ],
   "source": [
    "fi = pd.DataFrame({'feature': list(X_train.columns),\n",
    "                   'importance': model.feature_importances_}).\\\n",
    "                    sort_values('importance', ascending = False)\n",
    "\n",
    "# Display\n",
    "fi"
   ]
  },
  {
   "cell_type": "markdown",
   "metadata": {},
   "source": [
    "Below, we tried a Naive Bayes Classifier. However, Random Forest accuracy triumphs this model.  "
   ]
  },
  {
   "cell_type": "markdown",
   "metadata": {},
   "source": [
    "## Naive Bayes "
   ]
  },
  {
   "cell_type": "code",
   "execution_count": 22,
   "metadata": {},
   "outputs": [],
   "source": [
    "from sklearn.naive_bayes import MultinomialNB\n",
    "\n",
    "#Create a Gaussian Classifier\n",
    "bayes = MultinomialNB()\n",
    "\n",
    "# Train the model using the training sets\n",
    "# model.fit(X_train,y_train)\n",
    "# model.score(X_test,y_test)\n",
    "#Predict Output\n",
    "# predicted= model.predict([[0,2]]) # 0:Overcast, 2:Mild\n",
    "# print \"Predicted Value:\", predicted\n",
    "\n",
    "search_space = {\"alpha\":  np.array( [0.00001, 0.0001, 0.001, 0.01, 0.1, 1, 10])}\n",
    "\n",
    "search = RandomizedSearchCV(bayes, param_distributions = search_space)\n",
    "\n",
    "# Fit search\n",
    "search.fit(X_train,y_train)\n",
    "\n",
    "#Best parameters\n",
    "search.best_params_\n",
    "bayes_model = search.best_estimator_\n",
    "\n",
    "bayes_model.fit(X_train, y_train)\n",
    "b_score = bayes_model.score(X_test,y_test)"
   ]
  },
  {
   "cell_type": "markdown",
   "metadata": {},
   "source": [
    "## Model Comparison"
   ]
  },
  {
   "cell_type": "code",
   "execution_count": 35,
   "metadata": {},
   "outputs": [],
   "source": [
    "mc = pd.DataFrame({'model': [\"Log Model\",\"Random Forest\", \"Naive Bayes\",\"XGBoost\",],\n",
    "                   'accuracy': [log_score, f_score, b_score , boost_score] }).\\\n",
    "                    sort_values('accuracy', ascending = False)"
   ]
  },
  {
   "cell_type": "code",
   "execution_count": 36,
   "metadata": {},
   "outputs": [
    {
     "data": {
      "text/html": [
       "<div>\n",
       "<style scoped>\n",
       "    .dataframe tbody tr th:only-of-type {\n",
       "        vertical-align: middle;\n",
       "    }\n",
       "\n",
       "    .dataframe tbody tr th {\n",
       "        vertical-align: top;\n",
       "    }\n",
       "\n",
       "    .dataframe thead th {\n",
       "        text-align: right;\n",
       "    }\n",
       "</style>\n",
       "<table border=\"1\" class=\"dataframe\">\n",
       "  <thead>\n",
       "    <tr style=\"text-align: right;\">\n",
       "      <th></th>\n",
       "      <th>model</th>\n",
       "      <th>accuracy</th>\n",
       "    </tr>\n",
       "  </thead>\n",
       "  <tbody>\n",
       "    <tr>\n",
       "      <th>1</th>\n",
       "      <td>Random Forest</td>\n",
       "      <td>0.745059</td>\n",
       "    </tr>\n",
       "    <tr>\n",
       "      <th>3</th>\n",
       "      <td>XGBoost</td>\n",
       "      <td>0.743083</td>\n",
       "    </tr>\n",
       "    <tr>\n",
       "      <th>0</th>\n",
       "      <td>Log Model</td>\n",
       "      <td>0.685771</td>\n",
       "    </tr>\n",
       "    <tr>\n",
       "      <th>2</th>\n",
       "      <td>Naive Bayes</td>\n",
       "      <td>0.685771</td>\n",
       "    </tr>\n",
       "  </tbody>\n",
       "</table>\n",
       "</div>"
      ],
      "text/plain": [
       "           model  accuracy\n",
       "1  Random Forest  0.745059\n",
       "3        XGBoost  0.743083\n",
       "0      Log Model  0.685771\n",
       "2    Naive Bayes  0.685771"
      ]
     },
     "execution_count": 36,
     "metadata": {},
     "output_type": "execute_result"
    }
   ],
   "source": [
    "mc"
   ]
  },
  {
   "cell_type": "markdown",
   "metadata": {},
   "source": [
    "## Feature Selection "
   ]
  },
  {
   "cell_type": "markdown",
   "metadata": {},
   "source": [
    "Below are the feature importances that were retrived from the Random Forest Model"
   ]
  },
  {
   "cell_type": "code",
   "execution_count": 25,
   "metadata": {},
   "outputs": [
    {
     "data": {
      "text/html": [
       "<div>\n",
       "<style scoped>\n",
       "    .dataframe tbody tr th:only-of-type {\n",
       "        vertical-align: middle;\n",
       "    }\n",
       "\n",
       "    .dataframe tbody tr th {\n",
       "        vertical-align: top;\n",
       "    }\n",
       "\n",
       "    .dataframe thead th {\n",
       "        text-align: right;\n",
       "    }\n",
       "</style>\n",
       "<table border=\"1\" class=\"dataframe\">\n",
       "  <thead>\n",
       "    <tr style=\"text-align: right;\">\n",
       "      <th></th>\n",
       "      <th>feature</th>\n",
       "      <th>importance</th>\n",
       "    </tr>\n",
       "  </thead>\n",
       "  <tbody>\n",
       "    <tr>\n",
       "      <th>6</th>\n",
       "      <td>AMOUNT GRANTED</td>\n",
       "      <td>0.290275</td>\n",
       "    </tr>\n",
       "    <tr>\n",
       "      <th>5</th>\n",
       "      <td>COLL TO LOAN</td>\n",
       "      <td>0.128877</td>\n",
       "    </tr>\n",
       "    <tr>\n",
       "      <th>4</th>\n",
       "      <td>CF TO LOAN</td>\n",
       "      <td>0.117571</td>\n",
       "    </tr>\n",
       "    <tr>\n",
       "      <th>3</th>\n",
       "      <td>BUS YEARS</td>\n",
       "      <td>0.101073</td>\n",
       "    </tr>\n",
       "    <tr>\n",
       "      <th>0</th>\n",
       "      <td>CYCLE</td>\n",
       "      <td>0.100876</td>\n",
       "    </tr>\n",
       "    <tr>\n",
       "      <th>2</th>\n",
       "      <td>AGE</td>\n",
       "      <td>0.082520</td>\n",
       "    </tr>\n",
       "    <tr>\n",
       "      <th>1</th>\n",
       "      <td>HOME YEARS</td>\n",
       "      <td>0.075891</td>\n",
       "    </tr>\n",
       "    <tr>\n",
       "      <th>8</th>\n",
       "      <td>HOME OWNERSHIP</td>\n",
       "      <td>0.037851</td>\n",
       "    </tr>\n",
       "    <tr>\n",
       "      <th>9</th>\n",
       "      <td>MOP_WALK-IN</td>\n",
       "      <td>0.031988</td>\n",
       "    </tr>\n",
       "    <tr>\n",
       "      <th>10</th>\n",
       "      <td>GENDER</td>\n",
       "      <td>0.022939</td>\n",
       "    </tr>\n",
       "    <tr>\n",
       "      <th>7</th>\n",
       "      <td>MARITAL STATUS</td>\n",
       "      <td>0.010139</td>\n",
       "    </tr>\n",
       "  </tbody>\n",
       "</table>\n",
       "</div>"
      ],
      "text/plain": [
       "           feature  importance\n",
       "6   AMOUNT GRANTED    0.290275\n",
       "5     COLL TO LOAN    0.128877\n",
       "4       CF TO LOAN    0.117571\n",
       "3        BUS YEARS    0.101073\n",
       "0            CYCLE    0.100876\n",
       "2              AGE    0.082520\n",
       "1       HOME YEARS    0.075891\n",
       "8   HOME OWNERSHIP    0.037851\n",
       "9      MOP_WALK-IN    0.031988\n",
       "10          GENDER    0.022939\n",
       "7   MARITAL STATUS    0.010139"
      ]
     },
     "execution_count": 25,
     "metadata": {},
     "output_type": "execute_result"
    }
   ],
   "source": [
    "fi"
   ]
  },
  {
   "cell_type": "markdown",
   "metadata": {},
   "source": [
    "Since there seems to be a significant drop off after Home Years, we will exclude the following variables, home ownership, gender, and marital status then see how our accuracy changes. "
   ]
  },
  {
   "cell_type": "markdown",
   "metadata": {},
   "source": [
    "### Log Model"
   ]
  },
  {
   "cell_type": "code",
   "execution_count": 39,
   "metadata": {},
   "outputs": [
    {
     "data": {
      "text/plain": [
       "0.4644268774703557"
      ]
     },
     "execution_count": 39,
     "metadata": {},
     "output_type": "execute_result"
    }
   ],
   "source": [
    "X_train = X_train[['CYCLE', 'HOME YEARS', 'AGE', 'BUS YEARS', 'CF TO LOAN', 'COLL TO LOAN',\n",
    "       'AMOUNT GRANTED']]\n",
    "X_test = X_test[['CYCLE', 'HOME YEARS', 'AGE', 'BUS YEARS', 'CF TO LOAN', 'COLL TO LOAN',\n",
    "       'AMOUNT GRANTED']]\n",
    "\n",
    "\n",
    "\n",
    "log_modelcv = LogisticRegression()\n",
    "search_space = {'n_jobs':randint(2,100), \n",
    "                'max_iter':randint(2,100)}\n",
    "\n",
    "search = RandomizedSearchCV(log_modelcv, param_distributions = search_space, n_jobs=-1, \n",
    "                            scoring = 'f1')\n",
    "\n",
    "# Fit search\n",
    "search.fit(X_train,y_train)\n",
    "\n",
    "#Best parameters\n",
    "search.best_params_\n",
    "model = search.best_estimator_\n",
    "\n",
    "model.fit(X_train, y_train)\n",
    "log_score_2 = model.score(X_test,y_test)\n",
    "log_score_2"
   ]
  },
  {
   "cell_type": "markdown",
   "metadata": {},
   "source": [
    "### Random Forest "
   ]
  },
  {
   "cell_type": "code",
   "execution_count": 26,
   "metadata": {},
   "outputs": [],
   "source": [
    "X_train = X_train[['CYCLE', 'HOME YEARS', 'AGE', 'BUS YEARS', 'CF TO LOAN', 'COLL TO LOAN',\n",
    "       'AMOUNT GRANTED']]\n",
    "X_test = X_test[['CYCLE', 'HOME YEARS', 'AGE', 'BUS YEARS', 'CF TO LOAN', 'COLL TO LOAN',\n",
    "       'AMOUNT GRANTED']]\n",
    "\n",
    "model.fit(X_train, y_train)\n",
    "f_score_2 = model.score(X_test, y_test)\n",
    "\n"
   ]
  },
  {
   "cell_type": "markdown",
   "metadata": {},
   "source": [
    "### XG Boost"
   ]
  },
  {
   "cell_type": "code",
   "execution_count": 27,
   "metadata": {},
   "outputs": [],
   "source": [
    "X_train = X_train[['CYCLE', 'HOME YEARS', 'AGE', 'BUS YEARS', 'CF TO LOAN', 'COLL TO LOAN',\n",
    "       'AMOUNT GRANTED']]\n",
    "X_test = X_test[['CYCLE', 'HOME YEARS', 'AGE', 'BUS YEARS', 'CF TO LOAN', 'COLL TO LOAN',\n",
    "       'AMOUNT GRANTED']]\n",
    "\n",
    "xg_model.fit(X_train, y_train)\n",
    "boost_score_2 = xg_model.score(X_test, y_test)"
   ]
  },
  {
   "cell_type": "markdown",
   "metadata": {},
   "source": [
    "### Naive Bayes"
   ]
  },
  {
   "cell_type": "code",
   "execution_count": 28,
   "metadata": {},
   "outputs": [],
   "source": [
    "X_train = X_train[['CYCLE', 'HOME YEARS', 'AGE', 'BUS YEARS', 'CF TO LOAN', 'COLL TO LOAN',\n",
    "       'AMOUNT GRANTED', ]]\n",
    "X_test = X_test[['CYCLE', 'HOME YEARS', 'AGE', 'BUS YEARS', 'CF TO LOAN', 'COLL TO LOAN',\n",
    "       'AMOUNT GRANTED']]\n",
    "\n",
    "bayes_model.fit(X_train, y_train)\n",
    "b_score_2 = bayes_model.score(X_test,y_test)"
   ]
  },
  {
   "cell_type": "code",
   "execution_count": 42,
   "metadata": {},
   "outputs": [
    {
     "data": {
      "text/html": [
       "<div>\n",
       "<style scoped>\n",
       "    .dataframe tbody tr th:only-of-type {\n",
       "        vertical-align: middle;\n",
       "    }\n",
       "\n",
       "    .dataframe tbody tr th {\n",
       "        vertical-align: top;\n",
       "    }\n",
       "\n",
       "    .dataframe thead th {\n",
       "        text-align: right;\n",
       "    }\n",
       "</style>\n",
       "<table border=\"1\" class=\"dataframe\">\n",
       "  <thead>\n",
       "    <tr style=\"text-align: right;\">\n",
       "      <th></th>\n",
       "      <th>model</th>\n",
       "      <th>accuracy</th>\n",
       "    </tr>\n",
       "  </thead>\n",
       "  <tbody>\n",
       "    <tr>\n",
       "      <th>1</th>\n",
       "      <td>Random Forest</td>\n",
       "      <td>0.768775</td>\n",
       "    </tr>\n",
       "    <tr>\n",
       "      <th>3</th>\n",
       "      <td>XGBoost</td>\n",
       "      <td>0.756917</td>\n",
       "    </tr>\n",
       "    <tr>\n",
       "      <th>2</th>\n",
       "      <td>Naive Bayes</td>\n",
       "      <td>0.687747</td>\n",
       "    </tr>\n",
       "    <tr>\n",
       "      <th>0</th>\n",
       "      <td>Logistic Model</td>\n",
       "      <td>0.464427</td>\n",
       "    </tr>\n",
       "  </tbody>\n",
       "</table>\n",
       "</div>"
      ],
      "text/plain": [
       "            model  accuracy\n",
       "1   Random Forest  0.768775\n",
       "3         XGBoost  0.756917\n",
       "2     Naive Bayes  0.687747\n",
       "0  Logistic Model  0.464427"
      ]
     },
     "execution_count": 42,
     "metadata": {},
     "output_type": "execute_result"
    }
   ],
   "source": [
    "mc_2 = pd.DataFrame({'model': [\"Logistic Model\",\"Random Forest\", \"Naive Bayes\",\"XGBoost\"],\n",
    "                   'accuracy': [log_score_2,f_score_2, b_score_2 , boost_score_2] }).\\\n",
    "                    sort_values('accuracy', ascending = False)\n",
    "\n",
    "mc_2"
   ]
  },
  {
   "cell_type": "markdown",
   "metadata": {},
   "source": [
    "After choosing the features that are significant, we can see that the Random Forest Model preforms the best. "
   ]
  },
  {
   "cell_type": "code",
   "execution_count": 30,
   "metadata": {},
   "outputs": [
    {
     "name": "stdout",
     "output_type": "stream",
     "text": [
      "              precision    recall  f1-score   support\n",
      "\n",
      "         0.0       0.79      0.78      0.78       271\n",
      "         1.0       0.75      0.76      0.75       235\n",
      "\n",
      "    accuracy                           0.77       506\n",
      "   macro avg       0.77      0.77      0.77       506\n",
      "weighted avg       0.77      0.77      0.77       506\n",
      "\n"
     ]
    }
   ],
   "source": [
    "y_pred = model.predict(X_test)\n",
    "print(classification_report(y_test, y_pred))"
   ]
  },
  {
   "cell_type": "markdown",
   "metadata": {},
   "source": [
    "We were able to increase not only the precision score, but also the recall score for a hirer overall accuracy. "
   ]
  },
  {
   "cell_type": "markdown",
   "metadata": {},
   "source": [
    "## Check for Overfitting "
   ]
  },
  {
   "cell_type": "markdown",
   "metadata": {},
   "source": [
    "While higher accuracy is what is desired, we need to make sure that our model is not overfitting. That means that our model should not git the training data too well to the point where it is unable to use general data to make predictions. "
   ]
  },
  {
   "cell_type": "code",
   "execution_count": 31,
   "metadata": {},
   "outputs": [
    {
     "data": {
      "text/plain": [
       "<matplotlib.legend.Legend at 0x12fcff110>"
      ]
     },
     "execution_count": 31,
     "metadata": {},
     "output_type": "execute_result"
    },
    {
     "data": {
      "image/png": "[encoded data removed]",
      "text/plain": [
       "<Figure size 432x288 with 1 Axes>"
      ]
     },
     "metadata": {
      "needs_background": "light"
     },
     "output_type": "display_data"
    }
   ],
   "source": [
    "\n",
    "train_sizes, train_scores, test_scores = learning_curve(estimator = model,\n",
    "                                                              X = X, \n",
    "                                                              y = y, \n",
    "                                                              train_sizes = [1,50,150,250,350,500,600,700,800,900,100,1500,1550,1600], cv = 5,\n",
    "                                                              scoring = 'neg_mean_squared_error')\n",
    "\n",
    "# Take the mean of cross-validated train scores and validation scores\n",
    "train_scores_mean = np.mean(train_scores, axis=1)\n",
    "test_scores_mean = np.mean(test_scores, axis=1)\n",
    "\n",
    "# Plot the learning curves!\n",
    "plt.plot(train_sizes, train_scores_mean, label = 'Training score')\n",
    "plt.plot(train_sizes, test_scores_mean, label = 'Test score')\n",
    "plt.ylabel('mse', fontsize = 14)\n",
    "plt.xlabel('Training set size', fontsize = 14)\n",
    "plt.title('Learning curves', fontsize = 18, y = 1.03)\n",
    "plt.legend()"
   ]
  },
  {
   "cell_type": "markdown",
   "metadata": {},
   "source": [
    "The learning curves here indicate that we are not overfitting, however we would benefit from increasing the size of our training data! "
   ]
  },
  {
   "cell_type": "markdown",
   "metadata": {},
   "source": [
    "## Visualizations "
   ]
  },
  {
   "cell_type": "code",
   "execution_count": 32,
   "metadata": {},
   "outputs": [
    {
     "data": {
      "image/png": "[encoded data removed]",
      "text/plain": [
       "<Figure size 1080x1440 with 8 Axes>"
      ]
     },
     "metadata": {},
     "output_type": "display_data"
    }
   ],
   "source": [
    "import seaborn as sns\n",
    "sns.set(rc={'figure.figsize':(15,20)})\n",
    "fig, axs = plt.subplots(nrows = 4, ncols = 2)\n",
    "\n",
    "sns.regplot(x='AMOUNT GRANTED', y=y, data=merged_shuff, ax=axs[0][0],label=\"Amount Granted\" )\n",
    "sns.regplot(x='BUS YEARS', y=y, data= merged_shuff , ax=axs[1][0])\n",
    "sns.regplot(x='HOME YEARS', y=y, data= merged_shuff , ax=axs[2][0])\n",
    "sns.regplot(x='AGE',y=y, data=merged_shuff, ax=axs[3][0])\n",
    "# sns.regplot(x='BUS YEARS', y=y, data= merged_shuff , ax=axs[4][0])\n",
    "sns.regplot(x='COLL TO LOAN',y=y, data=merged_shuff, ax=axs[0][1])\n",
    "sns.regplot(x='CF TO LOAN', y=y, data= merged_shuff , ax=axs[1][1])\n",
    "sns.regplot(x='CYCLE', y=y, data= merged_shuff , ax=axs[2][1])\n",
    "plt.savefig(\"target_relationships.png\")\n"
   ]
  },
  {
   "cell_type": "code",
   "execution_count": 33,
   "metadata": {},
   "outputs": [],
   "source": [
    "merged_shuff.to_csv(r'/Users/jessicaparker/Desktop/Data/Usable_Data/MERGED.csv', index = True)\n"
   ]
  }
 ],
 "metadata": {
  "kernelspec": {
   "display_name": "Python 3",
   "language": "python",
   "name": "python3"
  },
  "language_info": {
   "codemirror_mode": {
    "name": "ipython",
    "version": 3
   },
   "file_extension": ".py",
   "mimetype": "text/x-python",
   "name": "python",
   "nbconvert_exporter": "python",
   "pygments_lexer": "ipython3",
   "version": "3.7.7"
  }
 },
 "nbformat": 4,
 "nbformat_minor": 4
}
